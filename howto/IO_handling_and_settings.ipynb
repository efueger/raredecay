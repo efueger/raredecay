{
 "cells": [
  {
   "cell_type": "markdown",
   "metadata": {},
   "source": [
    "# I/O handling and settings #\n",
    "\n",
    "The raredecay package contains simple functions to save all the output produced during the run and even provides the simple possibility to add your own output.\n",
    "\n",
    "To be able to save the output, and also to tweak a few other settings like the logger verbosity, we have to call *initialize()* right at the beginning before any import statements occur.\n",
    "\n",
    "If we ommit this step and go right to our desired functions, a standard *initialize()* will be called automatically with no output-path defined.\n",
    "\n",
    "### Why do we want output saved to file? ###\n",
    "\n",
    "Not every information should be displayed during a run in the console and not every figure should be plotted. But if the output_path is specified, every information (more then displayed) and nearly every plot (some issues there, but most of the plots work) gets saved to file anyway. So you still have the possibility to lookup things later on which you though may are not of interest.\n",
    "And not to forget: if you run it as a job, it is often the easiest way to save the output directly instead of redericting the prints to the console."
   ]
  },
  {
   "cell_type": "code",
   "execution_count": 2,
   "metadata": {
    "collapsed": false
   },
   "outputs": [
    {
     "name": "stdout",
     "output_type": "stream",
     "text": [
      "Enter an (optional) extension to the run-name and press 'enter':\n",
      "n_estimators 20 with L2 0.1\n"
     ]
    }
   ],
   "source": [
    "from raredecay import settings\n",
    "settings.initialize(output_path='tmp_output',  # any valid directory, best use absolute path.\n",
    "                    #If None -> no output saved\n",
    "                    run_name=\"My first run\",  # Names the folder\n",
    "                    overwrite_existing=False,  # False by default. Adds a number if folder already exists.\n",
    "                        # If True, overwrite existing folder.\n",
    "                    run_message=\"This is my first run, just checking out the settings module\",\n",
    "                        # appears at the beginning of the saved output file\n",
    "                    verbosity=3,  # Default value. between 1 and 5. The higher, the more the code will tell you\n",
    "                    plot_verbosity=3,  # Default value. same as verbosity but for showing plots\n",
    "                    prompt_for_input=True,  # if True, the script asks for an addition to the run-name\n",
    "                        # as well as before *show()*\n",
    "                    logger_console_level='warning',  # Default value. What kind of logger messages you want to see\n",
    "                        #in the console\n",
    "                    logger_file_level='debug',  # Default value. Values:'debug', 'info', 'warning', 'error', 'critical'\n",
    "                    # The \"higher\" (more serious) the level, the less will be logged (from the level specified and up)\n",
    "                    n_cpu=1,  # Default value. The estimated number of cores/threads to use. Can be changed later\n",
    "                    gpu_in_use=False  # Default value, advanced. Can be changed later.\n",
    "                        #Only use if gpu-parallelization is in use                    \n",
    ")"
   ]
  },
  {
   "cell_type": "markdown",
   "metadata": {},
   "source": [
    "#### Prompt_for_input ####\n",
    "As prompt_for_input was set to True, the script asked for a name extension. It is useful to enter your \"instant thoughts about the run\", like in the example: \"n_estimators 20 with L2 0.1\" to remember why you did this run. It will be added to the file name, as we will see later on."
   ]
  },
  {
   "cell_type": "markdown",
   "metadata": {},
   "source": [
    "## Writing your script ##\n",
    "So far, everything is done for the initialization and all the functions from the package can be imported. To make sure that the output will be saved, we have to call *finalize()* at the very end.\n",
    "\n"
   ]
  },
  {
   "cell_type": "markdown",
   "metadata": {},
   "source": [
    "### Changing settings during the script ###\n",
    "It is possible, for some settings, to be changed during the script (and therefore between diferent function calls)."
   ]
  },
  {
   "cell_type": "code",
   "execution_count": 3,
   "metadata": {
    "collapsed": false
   },
   "outputs": [],
   "source": [
    "settings.set_verbosity(verbosity=3,  # Default value\n",
    "                       plot_verbosity=3  # Default value\n",
    "                      )\n",
    "settings.parallel_profile(n_cpu=-1,  # Default value. Will choose all available cpus.\n",
    "                              # -2 takes all but one, -3 all but 2 and so on...\n",
    "                          gpu_in_use=False  # Default value.\n",
    "                         )\n",
    "settings.figure_save_config(file_formats=['png', 'svg'],  #Default value.\n",
    "                            # The formats to save the figure to. See the docs for available formats\n",
    "                            to_pickle=True,  # Default value. Pickles the matplotlib-figure for possible re-plot\n",
    "                            dpi=150  # Default value. The image resolution\n",
    "                            )"
   ]
  },
  {
   "cell_type": "markdown",
   "metadata": {},
   "source": [
    "### Adding additional output ###\n",
    "During a script, we may want to add output by ourselves; comments, figures, dictionaries, data...\n",
    "The easiest way to do that is to get the output-handler of the package."
   ]
  },
  {
   "cell_type": "code",
   "execution_count": 4,
   "metadata": {
    "collapsed": true
   },
   "outputs": [],
   "source": [
    "out = settings.get_output_handler()"
   ]
  },
  {
   "cell_type": "markdown",
   "metadata": {},
   "source": [
    "To add any kind of output, we just have to call *add_output()* and give all the output inside of an iterable."
   ]
  },
  {
   "cell_type": "code",
   "execution_count": 5,
   "metadata": {
    "collapsed": false
   },
   "outputs": [
    {
     "name": "stdout",
     "output_type": "stream",
     "text": [
      "Hi, I am  42 without \n",
      "  me : 42\n",
      "  he : 41\n",
      "\n"
     ]
    }
   ],
   "source": [
    "out.add_output([\"Hi, I am \", 42, \"without\", {'me': 42, 'he': 41}])"
   ]
  },
  {
   "cell_type": "markdown",
   "metadata": {},
   "source": [
    "It concatenates the objects and creates a nice representation (e.g. for dicts).\n",
    "We can specify several options:"
   ]
  },
  {
   "cell_type": "code",
   "execution_count": 6,
   "metadata": {
    "collapsed": false
   },
   "outputs": [
    {
     "name": "stdout",
     "output_type": "stream",
     "text": [
      "\n",
      "===========================\n",
      "We can set a big title here\n",
      "===========================\n",
      "\n",
      "--------------------\n",
      "Or (also) a subtitle\n",
      "--------------------\n",
      "\n",
      "\n",
      "This is the smallest title\n",
      "==========================\n",
      "Hi, I am  42 without \n",
      "  me : 42\n",
      "  he : 41\n",
      "\n"
     ]
    }
   ],
   "source": [
    "out.add_output([\"Hi, I am \", 42, \"without\", {'me': 42, 'he': 41}],\n",
    "               to_end=False,  # Default value. If True, the output will be written at the very end.\n",
    "               # This should be done with the important results in order to see them all at the end.\n",
    "               importance=3, # Default value. The higher, the more likely it will be **printed** (it is saved anyway).\n",
    "                   # Whether something is printed/plotted depends on the importances as well as on the verbosity\n",
    "                   # There is a trade-off between verbosity and importance\n",
    "               title=\"We can set a big title here\",\n",
    "               subtitle=\"Or (also) a subtitle\",\n",
    "               section=\"This is the smallest title\",  # We do not need to have all three kinds of title at once;)\n",
    "               obj_separator=\" \",  # Default value. The separation between the printed objects.\n",
    "               data_separator=\"\\n\\n\",  # Default value. The strings to separate from the next *add_output()*\n",
    "               force_newline=False  # Default value. If True, this output will be written on a newline, no matter\n",
    "                   # how the last output ended and not be concatenated  on the same line as the last *add_output()*\n",
    "              )"
   ]
  },
  {
   "cell_type": "markdown",
   "metadata": {},
   "source": [
    "Beside objects off all kind, we can also save figures. This does the same as plt.figure() but saves it in addition (at the end of the run, so you can plot into the same figure several times)"
   ]
  },
  {
   "cell_type": "code",
   "execution_count": 7,
   "metadata": {
    "collapsed": false
   },
   "outputs": [
    {
     "data": {
      "text/plain": [
       "(array([ 1.,  0.,  2.,  0.,  0.,  0.,  0.,  3.,  0.,  1.]),\n",
       " array([ 1. ,  1.4,  1.8,  2.2,  2.6,  3. ,  3.4,  3.8,  4.2,  4.6,  5. ]),\n",
       " <a list of 10 Patch objects>)"
      ]
     },
     "execution_count": 7,
     "metadata": {},
     "output_type": "execute_result"
    }
   ],
   "source": [
    "my_figure = out.save_fig(\"My first figure\")\n",
    "\n",
    "# as an example:\n",
    "import matplotlib.pyplot as plt\n",
    "plt.hist([1,4, 5, 4, 2, 4, 2])"
   ]
  },
  {
   "cell_type": "markdown",
   "metadata": {},
   "source": [
    "Again, we can specify a couple of parameters:"
   ]
  },
  {
   "cell_type": "code",
   "execution_count": 8,
   "metadata": {
    "collapsed": false
   },
   "outputs": [
    {
     "data": {
      "text/plain": [
       "(array([ 4.,  0.,  2.,  0.,  0.,  1.,  0.,  1.,  0.,  3.]),\n",
       " array([ 1. ,  1.4,  1.8,  2.2,  2.6,  3. ,  3.4,  3.8,  4.2,  4.6,  5. ]),\n",
       " <a list of 10 Patch objects>)"
      ]
     },
     "execution_count": 8,
     "metadata": {},
     "output_type": "execute_result"
    }
   ],
   "source": [
    "my_figure2 = out.save_fig(\"My second figure\",\n",
    "                          importance=3,  # same as for *add_output()*\n",
    "                          file_format=None,  # Default value. If None, will take the default ones.\n",
    "                          to_pickle=True,  # Default value. If True, pickle the figure for a possible re-plot\n",
    "                         )\n",
    "# as an example, we may also plot something\n",
    "plt.hist([1,1,1,1,2,2,3,4,5,5,5])"
   ]
  },
  {
   "cell_type": "markdown",
   "metadata": {},
   "source": [
    "### Advanced feature: rederict I/O-stream ###\n",
    "You may encounter a package, that prints its output directly to the console, but you want to save it to a file too.\n",
    "Therefore you can use the *IO_to_string()* method, which redericts the output, and *IO_to_sys()* to have normal output again."
   ]
  },
  {
   "cell_type": "code",
   "execution_count": 11,
   "metadata": {
    "collapsed": false,
    "scrolled": true
   },
   "outputs": [],
   "source": [
    "out.IO_to_string()\n",
    "print \"You cannot see that... yet\""
   ]
  },
  {
   "cell_type": "markdown",
   "metadata": {},
   "source": [
    "The output is currently collected by the output-handler."
   ]
  },
  {
   "cell_type": "code",
   "execution_count": 13,
   "metadata": {
    "collapsed": false
   },
   "outputs": [
    {
     "name": "stdout",
     "output_type": "stream",
     "text": [
      "\n",
      "\n",
      "Example of IO_to_sys and back\n",
      "=============================\n",
      "You cannot see that... yet\n",
      "\n",
      "\n"
     ]
    },
    {
     "data": {
      "text/plain": [
       "'You cannot see that... yet\\n'"
      ]
     },
     "execution_count": 13,
     "metadata": {},
     "output_type": "execute_result"
    }
   ],
   "source": [
    "out.IO_to_sys(importance=3,  # Default value. Whether to plot the collected output or not\n",
    "              # We can add several keyword-arguments, which will be given directly to *add_output()*\n",
    "              # Example:\n",
    "               section=\"Example of IO_to_sys and back\")"
   ]
  },
  {
   "cell_type": "markdown",
   "metadata": {},
   "source": [
    "## Finalize the run  ##\n",
    "At the end of every run, we should (and have to in case we specified an output_path) finalize it.\n",
    "As we choose *prompt_for_input* in the *initialize()* function, we will be asked to press enter (an empty input) before the plots will be showed. This way we won't be suprised by popping up windows."
   ]
  },
  {
   "cell_type": "code",
   "execution_count": 15,
   "metadata": {
    "collapsed": false
   },
   "outputs": [
    {
     "name": "stdout",
     "output_type": "stream",
     "text": [
      "\n",
      "===================================================\n",
      "END OF RUN My first run n_estimators 20 with L2 0.1\n",
      "===================================================\n",
      "\n",
      "\n",
      "\n",
      "\n",
      "\n",
      "Time information\n",
      "================\n",
      "Run startet at Sun Oct  9 14:40:23 2016 \n",
      "and lasted for 00:08:53\n",
      "\n",
      "Errors encountered during run : 0\n",
      "\n",
      "Warnings encountered during run : 0\n",
      "\n",
      "All output saved under: tmp_output/My_first_run_n_estimators_20_with_L2_0_1_1/\n",
      "['Run finished, press Enter to show the plots']\n"
     ]
    },
    {
     "data": {
      "image/png": "[encoded data removed]",
      "text/plain": [
       "<matplotlib.figure.Figure at 0x7f165a817f10>"
      ]
     },
     "metadata": {},
     "output_type": "display_data"
    },
    {
     "data": {
      "image/png": "[encoded data removed]",
      "text/plain": [
       "<matplotlib.figure.Figure at 0x7f16741e6090>"
      ]
     },
     "metadata": {},
     "output_type": "display_data"
    },
    {
     "data": {
      "text/plain": [
       "'\\n=============================================\\nRun: My first run n_estimators 20 with L2 0.1\\n=============================================\\n\\n----------------------\\nComments about the run\\n----------------------\\n\\n\\nHi, I am  42 without \\n  me : 42\\n  he : 41\\n\\n\\n===========================\\nWe can set a big title here\\n===========================\\n\\n--------------------\\nOr (also) a subtitle\\n--------------------\\n\\n\\nThis is the smallest title\\n==========================\\nHi, I am  42 without \\n  me : 42\\n  he : 41\\n\\n\\n\\nExample of IO_to_sys and back\\n=============================\\nYou cannot see that... yet\\n\\n\\n\\n\\nExample of IO_to_sys and back\\n=============================\\nYou cannot see that... yet\\n\\n\\n\\n\\nExample of IO_to_sys and back\\n=============================\\nYou cannot see that... yet\\n\\n\\n\\n===================================================\\nEND OF RUN My first run n_estimators 20 with L2 0.1\\n===================================================\\n\\n\\n\\n\\n====================\\nDifferent parameters\\n====================\\nrandint : 237241\\n\\n\\n\\nGit information\\n===============\\nProgram version from Git : v1.0a-4-gf7cc070\\n\\n\\n\\n\\nTime information\\n================\\nRun startet at Sun Oct  9 14:40:23 2016 \\nand lasted for 00:08:53\\n\\nErrors encountered during run : 0\\n\\nWarnings encountered during run : 0\\n\\n'"
      ]
     },
     "execution_count": 15,
     "metadata": {},
     "output_type": "execute_result"
    }
   ],
   "source": [
    "settings.finalize(show_plots=True,  # Default value. The *lazy* way for plt.show() ;)\n",
    "                  play_sound_at_end=False  # Default value. If True, a beep will sound at the end\n",
    "                      #to let you know it's at the end.\n",
    "                  )"
   ]
  },
  {
   "cell_type": "markdown",
   "metadata": {},
   "source": [
    "The function *finalize()* returns all the output nicely formatted (as seen on the screen above the plots) and can be used for whatever."
   ]
  }
 ],
 "metadata": {
  "kernelspec": {
   "display_name": "Python 2",
   "language": "python",
   "name": "python2"
  },
  "language_info": {
   "codemirror_mode": {
    "name": "ipython",
    "version": 2
   },
   "file_extension": ".py",
   "mimetype": "text/x-python",
   "name": "python",
   "nbconvert_exporter": "python",
   "pygments_lexer": "ipython2",
   "version": "2.7.10"
  }
 },
 "nbformat": 4,
 "nbformat_minor": 1
}
